{
  "nbformat": 4,
  "nbformat_minor": 0,
  "metadata": {
    "colab": {
      "name": "Importing Drive data to Colaboratory.ipynb",
      "version": "0.3.2",
      "views": {},
      "default_view": {},
      "provenance": [],
      "collapsed_sections": []
    },
    "kernelspec": {
      "name": "python3",
      "display_name": "Python 3"
    }
  },
  "cells": [
    {
      "metadata": {
        "id": "yrALozrTGVku",
        "colab_type": "code",
        "colab": {
          "autoexec": {
            "startup": false,
            "wait_interval": 0
          },
          "output_extras": [
            {
              "item_id": 3
            }
          ],
          "base_uri": "https://localhost:8080/",
          "height": 323
        },
        "outputId": "ebe32c7b-d88e-42a3-c037-3f5beece177a",
        "executionInfo": {
          "status": "ok",
          "timestamp": 1521579706094,
          "user_tz": 240,
          "elapsed": 9027,
          "user": {
            "displayName": "Marshall",
            "photoUrl": "https://lh3.googleusercontent.com/a/default-user=s128",
            "userId": "115560949952800128522"
          }
        }
      },
      "cell_type": "code",
      "source": [
        "'''\n",
        "modules instructions:\n",
        "If python shows \"no module name xyz\", use code below to install\n",
        "!pip install module_name\n",
        "'''\n",
        "!pip install --upgrade -q gspread\n",
        "!pip install gspread-dataframe\n",
        "!pip install pandas\n",
        "#these codes need to be run only once"
      ],
      "execution_count": 10,
      "outputs": [
        {
          "output_type": "stream",
          "text": [
            "Requirement already satisfied: gspread-dataframe in /usr/local/lib/python3.6/dist-packages\r\n",
            "Requirement already satisfied: pandas>=0.14.0 in /usr/local/lib/python3.6/dist-packages (from gspread-dataframe)\r\n",
            "Requirement already satisfied: gspread in /usr/local/lib/python3.6/dist-packages (from gspread-dataframe)\r\n",
            "Requirement already satisfied: pytz>=2011k in /usr/local/lib/python3.6/dist-packages (from pandas>=0.14.0->gspread-dataframe)\r\n",
            "Requirement already satisfied: numpy>=1.9.0 in /usr/local/lib/python3.6/dist-packages (from pandas>=0.14.0->gspread-dataframe)\r\n",
            "Requirement already satisfied: python-dateutil>=2 in /usr/local/lib/python3.6/dist-packages (from pandas>=0.14.0->gspread-dataframe)\n",
            "Requirement already satisfied: requests>=2.2.1 in /usr/local/lib/python3.6/dist-packages (from gspread->gspread-dataframe)\n",
            "Requirement already satisfied: six>=1.5 in /usr/local/lib/python3.6/dist-packages (from python-dateutil>=2->pandas>=0.14.0->gspread-dataframe)\n",
            "Requirement already satisfied: chardet<3.1.0,>=3.0.2 in /usr/local/lib/python3.6/dist-packages (from requests>=2.2.1->gspread->gspread-dataframe)\n",
            "Requirement already satisfied: certifi>=2017.4.17 in /usr/local/lib/python3.6/dist-packages (from requests>=2.2.1->gspread->gspread-dataframe)\n",
            "Requirement already satisfied: urllib3<1.23,>=1.21.1 in /usr/local/lib/python3.6/dist-packages (from requests>=2.2.1->gspread->gspread-dataframe)\n",
            "Requirement already satisfied: idna<2.7,>=2.5 in /usr/local/lib/python3.6/dist-packages (from requests>=2.2.1->gspread->gspread-dataframe)\n",
            "Requirement already satisfied: pandas in /usr/local/lib/python3.6/dist-packages\n",
            "Requirement already satisfied: pytz>=2011k in /usr/local/lib/python3.6/dist-packages (from pandas)\n",
            "Requirement already satisfied: numpy>=1.9.0 in /usr/local/lib/python3.6/dist-packages (from pandas)\n",
            "Requirement already satisfied: python-dateutil>=2 in /usr/local/lib/python3.6/dist-packages (from pandas)\n",
            "Requirement already satisfied: six>=1.5 in /usr/local/lib/python3.6/dist-packages (from python-dateutil>=2->pandas)\n"
          ],
          "name": "stdout"
        }
      ]
    },
    {
      "metadata": {
        "id": "dwY2a5otGu8C",
        "colab_type": "code",
        "colab": {
          "autoexec": {
            "startup": false,
            "wait_interval": 0
          }
        }
      },
      "cell_type": "code",
      "source": [
        "import pandas as pd\n",
        "import numpy as np\n",
        "import gspread\n",
        "from gspread_dataframe import get_as_dataframe, set_with_dataframe"
      ],
      "execution_count": 0,
      "outputs": []
    },
    {
      "metadata": {
        "id": "Y2DJL2WCGu5L",
        "colab_type": "code",
        "colab": {
          "autoexec": {
            "startup": false,
            "wait_interval": 0
          }
        }
      },
      "cell_type": "code",
      "source": [
        "from google.colab import auth\n",
        "auth.authenticate_user()\n",
        "from oauth2client.client import GoogleCredentials\n",
        "gc = gspread.authorize(GoogleCredentials.get_application_default())"
      ],
      "execution_count": 0,
      "outputs": []
    },
    {
      "metadata": {
        "id": "MmyvbixaGu24",
        "colab_type": "code",
        "colab": {
          "autoexec": {
            "startup": false,
            "wait_interval": 0
          },
          "output_extras": [
            {
              "item_id": 1
            }
          ],
          "base_uri": "https://localhost:8080/",
          "height": 202
        },
        "outputId": "67808647-4bb9-43d7-db9d-dab746637eaf",
        "executionInfo": {
          "status": "ok",
          "timestamp": 1521579521958,
          "user_tz": 240,
          "elapsed": 14198,
          "user": {
            "displayName": "Marshall",
            "photoUrl": "https://lh3.googleusercontent.com/a/default-user=s128",
            "userId": "115560949952800128522"
          }
        }
      },
      "cell_type": "code",
      "source": [
        "spreadsheet = gc.open(\"goal.csv\")\n",
        "# spreadsheet = gc.open(\"CTI-IVI Expert Interview\")\n",
        "sheet =  spreadsheet.get_worksheet(0)\n",
        "sheet.get_all_values()\n",
        "df2 = pd.DataFrame(sheet.get_all_records())\n",
        "df2.head()"
      ],
      "execution_count": 8,
      "outputs": [
        {
          "output_type": "execute_result",
          "data": {
            "text/html": [
              "<div>\n",
              "<style scoped>\n",
              "    .dataframe tbody tr th:only-of-type {\n",
              "        vertical-align: middle;\n",
              "    }\n",
              "\n",
              "    .dataframe tbody tr th {\n",
              "        vertical-align: top;\n",
              "    }\n",
              "\n",
              "    .dataframe thead th {\n",
              "        text-align: right;\n",
              "    }\n",
              "</style>\n",
              "<table border=\"1\" class=\"dataframe\">\n",
              "  <thead>\n",
              "    <tr style=\"text-align: right;\">\n",
              "      <th></th>\n",
              "      <th></th>\n",
              "      <th>Date</th>\n",
              "      <th>ReportUniqueID</th>\n",
              "      <th>Steps</th>\n",
              "      <th>Target_Steps</th>\n",
              "      <th>Week</th>\n",
              "    </tr>\n",
              "  </thead>\n",
              "  <tbody>\n",
              "    <tr>\n",
              "      <th>0</th>\n",
              "      <td>0</td>\n",
              "      <td>2017-12-04</td>\n",
              "      <td>be377ec1-5e50-410b-bd4e-e1f835015f6c</td>\n",
              "      <td>4874</td>\n",
              "      <td>5000</td>\n",
              "      <td>49</td>\n",
              "    </tr>\n",
              "    <tr>\n",
              "      <th>1</th>\n",
              "      <td>1</td>\n",
              "      <td>2017-12-04</td>\n",
              "      <td>ea3f3f51-e20c-426f-9bc5-a262927e5b9e</td>\n",
              "      <td>5690</td>\n",
              "      <td>7000</td>\n",
              "      <td>49</td>\n",
              "    </tr>\n",
              "    <tr>\n",
              "      <th>2</th>\n",
              "      <td>2</td>\n",
              "      <td>2017-12-04</td>\n",
              "      <td>8e1d7553-468e-490b-89ca-24631349a41a</td>\n",
              "      <td>933</td>\n",
              "      <td>4000</td>\n",
              "      <td>49</td>\n",
              "    </tr>\n",
              "    <tr>\n",
              "      <th>3</th>\n",
              "      <td>3</td>\n",
              "      <td>2017-12-04</td>\n",
              "      <td>46d9e50a-2527-49be-8c0d-847bac20e678</td>\n",
              "      <td>1368</td>\n",
              "      <td>4000</td>\n",
              "      <td>49</td>\n",
              "    </tr>\n",
              "    <tr>\n",
              "      <th>4</th>\n",
              "      <td>4</td>\n",
              "      <td>2017-12-05</td>\n",
              "      <td>be377ec1-5e50-410b-bd4e-e1f835015f6c</td>\n",
              "      <td>6345</td>\n",
              "      <td>5000</td>\n",
              "      <td>49</td>\n",
              "    </tr>\n",
              "  </tbody>\n",
              "</table>\n",
              "</div>"
            ],
            "text/plain": [
              "            Date                        ReportUniqueID  Steps  Target_Steps  \\\n",
              "0  0  2017-12-04  be377ec1-5e50-410b-bd4e-e1f835015f6c   4874          5000   \n",
              "1  1  2017-12-04  ea3f3f51-e20c-426f-9bc5-a262927e5b9e   5690          7000   \n",
              "2  2  2017-12-04  8e1d7553-468e-490b-89ca-24631349a41a    933          4000   \n",
              "3  3  2017-12-04  46d9e50a-2527-49be-8c0d-847bac20e678   1368          4000   \n",
              "4  4  2017-12-05  be377ec1-5e50-410b-bd4e-e1f835015f6c   6345          5000   \n",
              "\n",
              "   Week  \n",
              "0    49  \n",
              "1    49  \n",
              "2    49  \n",
              "3    49  \n",
              "4    49  "
            ]
          },
          "metadata": {
            "tags": []
          },
          "execution_count": 8
        }
      ]
    },
    {
      "metadata": {
        "id": "xuedU8I_Guz4",
        "colab_type": "code",
        "colab": {
          "autoexec": {
            "startup": false,
            "wait_interval": 0
          },
          "output_extras": [
            {
              "item_id": 1
            }
          ],
          "base_uri": "https://localhost:8080/",
          "height": 315
        },
        "outputId": "b0499334-276e-4f14-d0fc-c49abf3cae89",
        "executionInfo": {
          "status": "error",
          "timestamp": 1521579582141,
          "user_tz": 240,
          "elapsed": 452,
          "user": {
            "displayName": "Marshall",
            "photoUrl": "https://lh3.googleusercontent.com/a/default-user=s128",
            "userId": "115560949952800128522"
          }
        }
      },
      "cell_type": "code",
      "source": [
        "import sewr"
      ],
      "execution_count": 9,
      "outputs": [
        {
          "output_type": "error",
          "ename": "ModuleNotFoundError",
          "evalue": "ignored",
          "traceback": [
            "\u001b[0;31m---------------------------------------------------------------------------\u001b[0m",
            "\u001b[0;31mModuleNotFoundError\u001b[0m                       Traceback (most recent call last)",
            "\u001b[0;32m<ipython-input-9-0e7d6718fb56>\u001b[0m in \u001b[0;36m<module>\u001b[0;34m()\u001b[0m\n\u001b[0;32m----> 1\u001b[0;31m \u001b[0;32mimport\u001b[0m \u001b[0msewr\u001b[0m\u001b[0;34m\u001b[0m\u001b[0m\n\u001b[0m",
            "\u001b[0;31mModuleNotFoundError\u001b[0m: No module named 'sewr'",
            "",
            "\u001b[0;31m---------------------------------------------------------------------------\u001b[0;32m\nNOTE: If your import is failing due to a missing package, you can\nmanually install dependencies using either !pip or !apt.\n\nTo view examples of installing some common dependencies, click the\n\"Open Examples\" button below.\n\u001b[0;31m---------------------------------------------------------------------------\u001b[0m\n"
          ]
        }
      ]
    },
    {
      "metadata": {
        "id": "R0FOeMVkGuxR",
        "colab_type": "code",
        "colab": {
          "autoexec": {
            "startup": false,
            "wait_interval": 0
          }
        }
      },
      "cell_type": "code",
      "source": [
        ""
      ],
      "execution_count": 0,
      "outputs": []
    },
    {
      "metadata": {
        "id": "BYb9b8o1Guu4",
        "colab_type": "code",
        "colab": {
          "autoexec": {
            "startup": false,
            "wait_interval": 0
          }
        }
      },
      "cell_type": "code",
      "source": [
        ""
      ],
      "execution_count": 0,
      "outputs": []
    },
    {
      "metadata": {
        "id": "3Tbqnqp7Gusc",
        "colab_type": "code",
        "colab": {
          "autoexec": {
            "startup": false,
            "wait_interval": 0
          }
        }
      },
      "cell_type": "code",
      "source": [
        ""
      ],
      "execution_count": 0,
      "outputs": []
    },
    {
      "metadata": {
        "id": "34wTaVPnGuqC",
        "colab_type": "code",
        "colab": {
          "autoexec": {
            "startup": false,
            "wait_interval": 0
          }
        }
      },
      "cell_type": "code",
      "source": [
        ""
      ],
      "execution_count": 0,
      "outputs": []
    },
    {
      "metadata": {
        "id": "Z48qaotaGun0",
        "colab_type": "code",
        "colab": {
          "autoexec": {
            "startup": false,
            "wait_interval": 0
          }
        }
      },
      "cell_type": "code",
      "source": [
        ""
      ],
      "execution_count": 0,
      "outputs": []
    }
  ]
}